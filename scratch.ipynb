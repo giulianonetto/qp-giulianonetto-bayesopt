{
 "cells": [
  {
   "cell_type": "code",
   "execution_count": null,
   "metadata": {},
   "outputs": [],
   "source": [
    "import torch\n",
    "\n",
    "device = torch.device(\"cuda:3\" if torch.cuda.is_available() else \"cpu\")\n",
    "dtype = torch.double"
   ]
  },
  {
   "cell_type": "code",
   "execution_count": null,
   "metadata": {},
   "outputs": [],
   "source": [
    "from botorch.test_functions import Hartmann\n",
    "\n",
    "\n",
    "neg_hartmann6 = Hartmann(negate=True)\n",
    "\n",
    "def objective(X):\n",
    "    return neg_hartmann6(X).unsqueeze(-1)  # add output dimension\n",
    "\n",
    "def generate_initial_data(n=10):\n",
    "    # generate training data\n",
    "    train_x = torch.rand(n, 6, device=device, dtype=dtype)\n",
    "    train_obj = objective(train_x)\n",
    "    best_observed_value = train_obj.max().item()\n",
    "    return train_x, train_obj, best_observed_value"
   ]
  },
  {
   "cell_type": "code",
   "execution_count": null,
   "metadata": {},
   "outputs": [],
   "source": [
    "from botorch.models.gp_regression import SingleTaskGP\n",
    "from botorch.models.transforms.outcome import Standardize\n",
    "from gpytorch.mlls import ExactMarginalLogLikelihood\n",
    "\n",
    "def initialize_model(train_x, train_obj, state_dict=None):\n",
    "    # define models for objective and constraint\n",
    "    train_yvar = torch.full_like(train_obj, 1e-6)\n",
    "    outcome_transform = Standardize(m=1)\n",
    "    model = SingleTaskGP(\n",
    "        train_X=train_x,\n",
    "        train_Y=train_obj,\n",
    "        outcome_transform=outcome_transform,\n",
    "        train_Yvar=train_yvar).to(train_x)\n",
    "\n",
    "    # load state dict if it is passed\n",
    "    if state_dict is not None:\n",
    "        model.load_state_dict(state_dict)\n",
    "\n",
    "    return ExactMarginalLogLikelihood(model.likelihood, model), model"
   ]
  },
  {
   "cell_type": "code",
   "execution_count": null,
   "metadata": {},
   "outputs": [],
   "source": [
    "from botorch.optim import optimize_acqf\n",
    "\n",
    "bounds = torch.tensor([[0.0] * 6, [1.0] * 6], device=device, dtype=dtype)\n"
   ]
  },
  {
   "cell_type": "code",
   "execution_count": 1,
   "metadata": {},
   "outputs": [
    {
     "data": {
      "text/plain": [
       "0.9843167701863355"
      ]
     },
     "execution_count": 1,
     "metadata": {},
     "output_type": "execute_result"
    }
   ],
   "source": [
    "3.1695/3.22"
   ]
  },
  {
   "cell_type": "code",
   "execution_count": null,
   "metadata": {},
   "outputs": [],
   "source": [
    "from botorch.acquisition.analytic import LogExpectedImprovement, ExpectedImprovement\n",
    "from gpytorch.mlls import ExactMarginalLogLikelihood\n",
    "from botorch import fit_gpytorch_mll\n",
    "import time\n",
    "import warnings\n",
    "\n",
    "\n",
    "def run(initial_data, random_x=False, n_trials=100, verbose=False):\n",
    "    warnings.filterwarnings(\"ignore\", category=UserWarning)\n",
    "    model = None\n",
    "    train_x, train_obj, best_value = initial_data\n",
    "    best_values = [best_value]\n",
    "    t0 = time.monotonic()\n",
    "    for trial in range(1, n_trials + 1):\n",
    "        # get marginal log-lklh and model with current data\n",
    "        mll, model = initialize_model(\n",
    "            train_x, train_obj,\n",
    "            state_dict=model.state_dict() if model else None\n",
    "        )\n",
    "        # fit model\n",
    "        fit_gpytorch_mll(mll)\n",
    "        # update acquisition function definition with best f so far\n",
    "        acquisition_function = ExpectedImprovement(model=model, best_f=train_obj.max().item())\n",
    "        # optimize acquisition function to get new x\n",
    "        if not random_x:\n",
    "            candidate, _ = optimize_acqf(\n",
    "                acq_function=acquisition_function,\n",
    "                bounds=bounds,\n",
    "                q=1,\n",
    "                num_restarts=1,\n",
    "                raw_samples=1,\n",
    "                options={\"maxiter\": 200},\n",
    "            )\n",
    "            new_x = candidate.detach()  # x that maximizes acquisition function\n",
    "        else:\n",
    "            new_x = torch.rand(1, 6)\n",
    "\n",
    "        new_obj = objective(new_x)  # objetive at new x\n",
    "        # update current data\n",
    "        train_x = torch.cat([train_x, new_x])\n",
    "        train_obj = torch.cat([train_obj, new_obj])\n",
    "        objective_values = objective(train_x)\n",
    "        best_value = objective_values.max().item()\n",
    "        best_x = train_x[torch.argmax(objective_values), :]\n",
    "        best_values.append(best_value)    \n",
    "        \n",
    "        if verbose:\n",
    "            msg = f\"Trial {trial}, current f={new_obj.item():>4.5}, best f={best_value:>4.5}\"\n",
    "            print(msg)\n",
    "        \n",
    "        best_values.append(best_value)\n",
    "\n",
    "    t1 = time.monotonic()\n",
    "    if verbose:\n",
    "        print(f\"Time: {t1-t0:>4.2f}\")\n",
    "    return best_value, best_x"
   ]
  },
  {
   "cell_type": "code",
   "execution_count": null,
   "metadata": {},
   "outputs": [],
   "source": [
    "initial_data = generate_initial_data(n=1)\n"
   ]
  },
  {
   "cell_type": "code",
   "execution_count": null,
   "metadata": {},
   "outputs": [],
   "source": [
    "ys = []\n",
    "for _ in range(30):\n",
    "    y, _ = run(initial_data=initial_data, n_trials=50, random_x=False)\n",
    "    ys.append(y)\n",
    "print(torch.tensor(ys).mean().item(), torch.tensor(ys).std().item())"
   ]
  },
  {
   "cell_type": "code",
   "execution_count": null,
   "metadata": {},
   "outputs": [],
   "source": [
    "ys = []\n",
    "for _ in range(10):\n",
    "    y, _ = run(initial_data=initial_data, n_trials=20, random_x=True)\n",
    "    ys.append(y)\n",
    "print(torch.tensor(ys).mean().item(), torch.tensor(ys).std().item())"
   ]
  }
 ],
 "metadata": {
  "kernelspec": {
   "display_name": "Python 3",
   "language": "python",
   "name": "python3"
  },
  "language_info": {
   "codemirror_mode": {
    "name": "ipython",
    "version": 3
   },
   "file_extension": ".py",
   "mimetype": "text/x-python",
   "name": "python",
   "nbconvert_exporter": "python",
   "pygments_lexer": "ipython3",
   "version": "3.11.3"
  }
 },
 "nbformat": 4,
 "nbformat_minor": 2
}
